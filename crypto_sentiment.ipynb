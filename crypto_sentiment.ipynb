{
 "cells": [
  {
   "cell_type": "markdown",
   "metadata": {},
   "source": [
    "# Unit 12 - Tales from the Crypto\n",
    "\n",
    "---\n"
   ]
  },
  {
   "cell_type": "markdown",
   "metadata": {},
   "source": [
    "## 1. Sentiment Analysis\n",
    "\n",
    "Use the [newsapi](https://newsapi.org/) to pull the latest news articles for Bitcoin and Ethereum and create a DataFrame of sentiment scores for each coin.\n",
    "\n",
    "Use descriptive statistics to answer the following questions:\n",
    "1. Which coin had the highest mean positive score?\n",
    "2. Which coin had the highest negative score?\n",
    "3. Which coin had the highest positive score?"
   ]
  },
  {
   "cell_type": "code",
   "execution_count": 7,
   "metadata": {},
   "outputs": [
    {
     "name": "stderr",
     "output_type": "stream",
     "text": [
      "[nltk_data] Downloading package vader_lexicon to\n",
      "[nltk_data]     /Users/jalhussain/nltk_data...\n",
      "[nltk_data]   Package vader_lexicon is already up-to-date!\n"
     ]
    }
   ],
   "source": [
    "# Initial imports\n",
    "import os\n",
    "import pandas as pd\n",
    "from dotenv import load_dotenv\n",
    "import nltk as nltk\n",
    "nltk.download('vader_lexicon')\n",
    "from nltk.sentiment.vader import SentimentIntensityAnalyzer\n",
    "analyzer = SentimentIntensityAnalyzer()\n",
    "\n",
    "# importing NewsApiClient\n",
    "from newsapi import NewsApiClient \n",
    "\n",
    "%matplotlib inline"
   ]
  },
  {
   "cell_type": "code",
   "execution_count": 10,
   "metadata": {},
   "outputs": [
    {
     "data": {
      "text/plain": [
       "'236f210e6ecc4f10b8756d7dc75bfbcc'"
      ]
     },
     "execution_count": 10,
     "metadata": {},
     "output_type": "execute_result"
    }
   ],
   "source": [
    "# Read your api key environment variable\n",
    "load_dotenv()\n",
    "news_api_key = os.getenv('NEWS_API_KEY')\n"
   ]
  },
  {
   "cell_type": "code",
   "execution_count": 11,
   "metadata": {},
   "outputs": [],
   "source": [
    "# Create a newsapi client\n",
    "newsapi = NewsApiClient(api_key=news_api_key)"
   ]
  },
  {
   "cell_type": "code",
   "execution_count": 14,
   "metadata": {},
   "outputs": [
    {
     "data": {
      "text/plain": [
       "{'status': 'ok',\n",
       " 'totalResults': 9840,\n",
       " 'articles': [{'source': {'id': None, 'name': 'New York Times'},\n",
       "   'author': 'Katie Benner',\n",
       "   'title': 'Justice Dept. Announces Raft of Changes Meant to Deter Cyberthreats',\n",
       "   'description': 'The moves came a week after the department made its largest financial seizure ever, confiscating over $3.6 billion worth of Bitcoin stolen in a 2016 hacking.',\n",
       "   'url': 'https://www.nytimes.com/2022/02/17/us/politics/justice-department-cybersecurity.html',\n",
       "   'urlToImage': 'https://static01.nyt.com/images/2022/02/17/us/politics/17dc-justice/merlin_199612353_b05bfb07-3da8-404e-8a75-221181e5d014-facebookJumbo.jpg',\n",
       "   'publishedAt': '2022-02-17T23:51:49Z',\n",
       "   'content': 'Even in cyberspace, the Department of Justice is able to use a tried and true investigative technique, following the money, Ms. Monaco said. Its what led us to Al Capone in the 30s. It helped us dest… [+1176 chars]'},\n",
       "  {'source': {'id': None, 'name': 'Gizmodo.com'},\n",
       "   'author': 'Matt Novak',\n",
       "   'title': 'Super Bowl Crypto Ads Feature Larry David, LeBron James, and QR Code for Free Bitcoin',\n",
       "   'description': 'If Sunday’s Super Bowl ads are any indication, crypto has truly arrived in mainstream culture. And if you didn’t catch the game, you can watch the ads here, featuring Larry David, LeBron James, and a QR code that crashed Coinbase’s website within minutes.Read…',\n",
       "   'url': 'https://gizmodo.com/super-bowl-crypto-ads-feature-larry-david-lebron-james-1848531978',\n",
       "   'urlToImage': 'https://i.kinja-img.com/gawker-media/image/upload/c_fill,f_auto,fl_progressive,g_center,h_675,pg_1,q_80,w_1200/9c447e620fa2b75b4a91a6062a355c2e.png',\n",
       "   'publishedAt': '2022-02-14T11:00:00Z',\n",
       "   'content': 'If Sundays Super Bowl ads are any indication, crypto has truly arrived in mainstream culture. And if you didnt catch the game, you can watch the ads here, featuring Larry David, LeBron James, and a Q… [+3454 chars]'},\n",
       "  {'source': {'id': None, 'name': 'New York Times'},\n",
       "   'author': 'Zach Montague',\n",
       "   'title': 'Ilya Lichtenstein Held in Bitcoin Case While Heather Morgan Is Given Bail',\n",
       "   'description': 'A judge appeared more concerned by the flight risk posed by Ilya Lichtenstein than by his wife, Heather Morgan, in a case accusing them of a sweeping scheme to launder stolen cryptocurrency.',\n",
       "   'url': 'https://www.nytimes.com/2022/02/14/us/politics/ilya-lichtenstein-heather-morgan-bitcoin-bail.html',\n",
       "   'urlToImage': 'https://static01.nyt.com/images/2022/02/13/nyregion/14dc-cryptocoupl-top/merlin_201888621_42784d8c-2f00-4d2d-9e60-5bb142c1c44f-facebookJumbo.jpg',\n",
       "   'publishedAt': '2022-02-15T02:45:31Z',\n",
       "   'content': 'The confiscation of the Bitcoin that remained in Mr. Lichtensteins wallet on Feb. 1, worth roughly $3.6 billion at the time, was the Justice Departments largest financial seizure ever, officials have… [+1442 chars]'},\n",
       "  {'source': {'id': None, 'name': 'Slashdot.org'},\n",
       "   'author': 'EditorDavid',\n",
       "   'title': \"Why Isn't Bitcoin Booming?\",\n",
       "   'description': '\"Bitcoin was seen by many of its libertarian-leaning fans as a kind of doomsday insurance,\" argues a columnist in the New York Times, \"a form of \\'digital gold\\' that would be a source of stability as the world grew more chaotic and unpredictable.... \\n\\n\"But Bit…',\n",
       "   'url': 'https://news.slashdot.org/story/22/03/12/0541251/why-isnt-bitcoin-booming',\n",
       "   'urlToImage': 'https://a.fsdn.com/sd/topics/bitcoin_64.png',\n",
       "   'publishedAt': '2022-03-12T18:34:00Z',\n",
       "   'content': '\"Bitcoin was seen by many of its libertarian-leaning fans as a kind of doomsday insurance,\" argues a columnist in the New York Times, \"a form of \\'digital gold\\' that would be a source of stability as … [+3914 chars]'},\n",
       "  {'source': {'id': 'reuters', 'name': 'Reuters'},\n",
       "   'author': None,\n",
       "   'title': \"CRYPTOVERSE-Bitcoin could be laid low by miners' malady - Reuters\",\n",
       "   'description': \"Bitcoin miners are feeling the heat - and the pain's rippling downstream to pressure prices.\",\n",
       "   'url': 'https://www.reuters.com/markets/europe/cryptoverse-bitcoin-could-be-laid-low-by-miners-malady-2022-02-22/',\n",
       "   'urlToImage': 'https://www.reuters.com/resizer/9nBpgfg7pSfpPQXnDcfMde9l3v0=/1200x628/smart/filters:quality(80)/cloudfront-us-east-2.images.arcpublishing.com/reuters/OXI44UUFUBOOBJGVTYCNM4IIBI.jpg',\n",
       "   'publishedAt': '2022-02-22T06:17:00Z',\n",
       "   'content': \"Feb 22 (Reuters) - Bitcoin miners are feeling the heat - and the pain's rippling downstream to pressure prices.\\r\\nThe cryptocurrency's spectacular rally in 2021 drew thousands of entrants into mining,… [+4196 chars]\"},\n",
       "  {'source': {'id': 'reuters', 'name': 'Reuters'},\n",
       "   'author': None,\n",
       "   'title': 'Cryptoverse: Bitcoin gains conflict currency credentials - Reuters',\n",
       "   'description': \"Bitcoin has leapt since Russia's invasion of Ukraine, bolstered by people in those countries looking to store and move money in anonymous and decentralised crypto.\",\n",
       "   'url': 'https://www.reuters.com/markets/europe/cryptoverse-bitcoin-gains-conflict-currency-credentials-2022-03-01/',\n",
       "   'urlToImage': 'https://www.reuters.com/pf/resources/images/reuters/reuters-default.png?d=75',\n",
       "   'publishedAt': '2022-03-01T06:10:00Z',\n",
       "   'content': \"March 1 (Reuters) - Bitcoin has leapt since Russia's invasion of Ukraine, bolstered by people in those countries looking to store and move money in anonymous and decentralised crypto.\\r\\nBitcoin tradin… [+3955 chars]\"},\n",
       "  {'source': {'id': 'wired', 'name': 'Wired'},\n",
       "   'author': 'Gian M. Volpicelli',\n",
       "   'title': 'War Is Calling Crypto’s ‘Neutrality’ Into Question',\n",
       "   'description': 'War in Ukraine and Western sanctions against Russia have made cryptocurrency a hot potato for international politics.',\n",
       "   'url': 'https://www.wired.com/story/crypto-russia-ukraine-sanctions/',\n",
       "   'urlToImage': 'https://media.wired.com/photos/6226a83bd53a49d05c483fa6/191:100/w_1280,c_limit/business-crypto-war-1130490519.jpg',\n",
       "   'publishedAt': '2022-03-08T12:00:00Z',\n",
       "   'content': 'Whose side is cryptocurrency on? If you had asked Satoshi Nakamoto, the pseudonymous person (or persons) who created the Bitcoin platform in 2008, he/they likely would have rejected the question. The… [+3643 chars]'},\n",
       "  {'source': {'id': None, 'name': 'CNET'},\n",
       "   'author': 'Julian Dossett',\n",
       "   'title': 'Cryptocurrency Donations Pour Into Ukraine. This Week in Bitcoin and Crypto News - CNET',\n",
       "   'description': 'Nonfungible Tidbits: All the bitcoin, cryptocurrency and NFT news for the week ending March 6.',\n",
       "   'url': 'https://www.cnet.com/personal-finance/crypto/cryptocurrency-donations-pour-into-ukraine-this-week-in-bitcoin-and-crypto-news/',\n",
       "   'urlToImage': 'https://www.cnet.com/a/img/ZqMWuhVOxJ8FqLi8Vs9ihQDJzPc=/1200x630/2022/03/04/c8f8f15b-e257-4dfd-9f64-a53be254530b/gettyimages-1320502852.jpg',\n",
       "   'publishedAt': '2022-03-05T14:45:07Z',\n",
       "   'content': \"Getty\\r\\nWelcome to Nonfungible Tidbits. Our focus this week: Russia's war in Ukraine.\\xa0\\r\\nIn addition to uprooting the lives of Ukrainians and throwing the international order into chaos, the Russian in… [+3275 chars]\"},\n",
       "  {'source': {'id': 'the-verge', 'name': 'The Verge'},\n",
       "   'author': 'Richard Lawler',\n",
       "   'title': 'Influencers beware: promoting the wrong crypto could mean facing a class-action lawsuit',\n",
       "   'description': 'An appeals court ruled that promoting unregistered securities on YouTube is the same as doing it in a targeted letter. Now a lawsuit against promoters of the BitConnect crypto Ponzi scheme will continue.',\n",
       "   'url': 'https://www.theverge.com/2022/2/18/22941470/bitconnect-ponzi-bitcoin-securities-act-sec-lawsuit-influencers-youtube-tiktok',\n",
       "   'urlToImage': 'https://cdn.vox-cdn.com/thumbor/o7yEw5nolnK4VnPNtYLR7DyPl3o=/0x215:3000x1786/fit-in/1200x630/cdn.vox-cdn.com/uploads/chorus_asset/file/8937277/acastro_170726_1777_0007_v4.jpg',\n",
       "   'publishedAt': '2022-02-19T03:15:20Z',\n",
       "   'content': 'An appeals court decided shilling for an unregistered security on YouTube is the same thing as doing it in a letter.\\r\\nIllustration by Alex Castro / The Verge\\r\\nThe story of BitConnect doesnt include a… [+3046 chars]'},\n",
       "  {'source': {'id': None, 'name': 'CNET'},\n",
       "   'author': 'Daniel Van Boom',\n",
       "   'title': \"Bitcoin and Ether Are Helping Fund Ukraine's Resistance - CNET\",\n",
       "   'description': 'Nearly $20 million has been raised in cryptocurrencies like bitcoin and ether since Russian forces invaded Ukraine last week.',\n",
       "   'url': 'https://www.cnet.com/personal-finance/crypto/bitcoin-and-ether-are-helping-fund-ukraines-resistance/',\n",
       "   'urlToImage': 'https://www.cnet.com/a/img/BH4MgY2j-pnCGoz05WyRZ0BIJkw=/1200x630/2022/02/28/042f54db-c4aa-4894-a501-e01666835ed9/gettyimages-1234061349.jpg',\n",
       "   'publishedAt': '2022-02-28T12:45:00Z',\n",
       "   'content': 'Nurphoto/Getty\\r\\nAs Russia launched an invasion into his home country last Thursday, Ukranian photographer Vitaliy Raskalov found himself a world away in Mexico City. When I spoke with him over Telegr… [+7815 chars]'},\n",
       "  {'source': {'id': 'reuters', 'name': 'Reuters'},\n",
       "   'author': None,\n",
       "   'title': 'CRYPTOVERSE-Bitcoin runs into Russian rules and regiments - Reuters',\n",
       "   'description': 'Bristling tensions and looming laws in Europe could offer clues to two questions: Can bitcoin be a safe-haven asset? And can Russia emerge as a crypto superpower?',\n",
       "   'url': 'https://www.reuters.com/markets/europe/cryptoverse-bitcoin-runs-into-russian-rules-regiments-2022-02-15/',\n",
       "   'urlToImage': 'https://www.reuters.com/resizer/o-neidYH62soGCDm3MOwoSkkRqc=/1200x628/smart/filters:quality(80)/cloudfront-us-east-2.images.arcpublishing.com/reuters/AOEOU7DFBRN5ZA32VLFEUPFGKY.jpg',\n",
       "   'publishedAt': '2022-02-15T06:00:00Z',\n",
       "   'content': 'Feb 15 (Reuters) - Bristling tensions and looming laws in Europe could offer clues to two questions: Can bitcoin be a safe-haven asset? And can Russia emerge as a crypto superpower?\\r\\nThe answer to th… [+4123 chars]'},\n",
       "  {'source': {'id': 'reuters', 'name': 'Reuters'},\n",
       "   'author': None,\n",
       "   'title': 'Cryptocurrencies in a time of war - Reuters.com',\n",
       "   'description': 'Cryptocurrencies have been close to the headlines since Russia invaded Ukraine, with the ever-volatile bitcoin in demand in Russia and beyond.',\n",
       "   'url': 'https://www.reuters.com/technology/cryptocurrencies-time-war-2022-03-04/',\n",
       "   'urlToImage': 'https://www.reuters.com/resizer/o-neidYH62soGCDm3MOwoSkkRqc=/1200x628/smart/filters:quality(80)/cloudfront-us-east-2.images.arcpublishing.com/reuters/AOEOU7DFBRN5ZA32VLFEUPFGKY.jpg',\n",
       "   'publishedAt': '2022-03-04T15:01:00Z',\n",
       "   'content': 'LONDON, March 4 (Reuters) - Cryptocurrencies have been close to the headlines since Russia invaded Ukraine, with the ever-volatile bitcoin in demand in Russia and beyond.\\r\\nHere are some charts that l… [+3634 chars]'},\n",
       "  {'source': {'id': 'reuters', 'name': 'Reuters'},\n",
       "   'author': None,\n",
       "   'title': 'LIVE MARKETS Bitcoin, not exactly a safe haven today - Reuters',\n",
       "   'description': 'Welcome to the home for real-time coverage of markets brought to you by Reuters reporters. You can share your thoughts with us at <a href=\"mailto:markets.research@thomsonreuters.com\" target=\"_blank\">markets.research@thomsonreuters.com</a>',\n",
       "   'url': 'https://www.reuters.com/markets/stocks/live-markets-bitcoin-not-exactly-safe-haven-today-2022-02-24/',\n",
       "   'urlToImage': 'https://www.reuters.com/pf/resources/images/reuters/reuters-default.png?d=75',\n",
       "   'publishedAt': '2022-02-24T11:13:00Z',\n",
       "   'content': 'Feb 24 - Welcome to the home for real-time coverage of markets brought to you by Reuters reporters. You can share your thoughts with us at markets.research@thomsonreuters.com\\r\\nBITCOIN, NOT EXACTLY A … [+6882 chars]'},\n",
       "  {'source': {'id': 'reuters', 'name': 'Reuters'},\n",
       "   'author': None,\n",
       "   'title': 'Verdict against self-proclaimed Bitcoin inventor balloons to $143 mln - Reuters.com',\n",
       "   'description': 'Self-proclaimed Bitcoin creator Craig Wright must pay another $43 million to a joint venture he co-created, adding to a $100 million verdict against him last year, a federal judge in West Palm Beach, Florida, ruled Wednesday.',\n",
       "   'url': 'https://www.reuters.com/legal/transactional/verdict-against-self-proclaimed-bitcoin-inventor-balloons-143-mln-2022-03-10/',\n",
       "   'urlToImage': 'https://www.reuters.com/resizer/HwxFAoJMCaedgHpDo31egcIjlMY=/728x381/smart/filters:quality(80)/cloudfront-us-east-2.images.arcpublishing.com/reuters/P72QAQ4RLNMM5KZUEC6VCTRQQM.jpg',\n",
       "   'publishedAt': '2022-03-10T17:53:00Z',\n",
       "   'content': '<ul><li>\\r\\nSummary</li><li>\\r\\nLaw firms</li><li>\\r\\nRelated documents</li></ul>\\r\\nThe company and law firm names shown above are generated automatically based on the text of the article. We are improving … [+2414 chars]'},\n",
       "  {'source': {'id': 'business-insider', 'name': 'Business Insider'},\n",
       "   'author': 'hrobertson@businessinsider.com (Harry Robertson)',\n",
       "   'title': 'Ukraine asking for bitcoin donations is bullish for the cryptocurrency, veteran strategist Tom Lee says',\n",
       "   'description': '\"Still think bitcoin is not useful?\" Fundstrat\\'s Tom Lee wrote in a note to clients, after Ukraine asked for donations.',\n",
       "   'url': 'https://markets.businessinsider.com/news/currencies/ukraine-bitcoin-donations-cryptocurrencies-investing-prices-tom-lee-fundstrat-2022-3',\n",
       "   'urlToImage': 'https://i.insider.com/621e388296929400196c0c32?width=1200&format=jpeg',\n",
       "   'publishedAt': '2022-03-01T16:03:11Z',\n",
       "   'content': 'The Ukrainian government asking for donations in bitcoin shows the utility of the cryptocurrency and is a positive sign for the market, veteran strategist Tom Lee has said.\\r\\nUkraine government accoun… [+1750 chars]'},\n",
       "  {'source': {'id': 'business-insider', 'name': 'Business Insider'},\n",
       "   'author': 'snagarajan@insider.com (Shalini Nagarajan)',\n",
       "   'title': \"'Shark Tank' investor Kevin O'Leary says bitcoin won't hit $300,000 until institutions are comfortable buying the crypto\",\n",
       "   'description': '\"If you want to talk about bitcoin going to $100,000, $200,000, $300,000, it\\'s going to be when institutions can finally buy it,\" O\\'Leary said.',\n",
       "   'url': 'https://markets.businessinsider.com/news/currencies/bitcoin-price-prediction-crypto-kevin-oleary-shark-tank-regulation-institutions-2022-2',\n",
       "   'urlToImage': 'https://i.insider.com/620f68fd462ff20019c59ea3?width=1200&format=jpeg',\n",
       "   'publishedAt': '2022-02-18T11:16:03Z',\n",
       "   'content': 'Don\\'t expect bitcoin to double or triple in price anytime soon, going by \"Shark Tank\" investor Kevin O\\'Leary\\'s prediction.\\r\\n\"If you want to talk about bitcoin going to $100,000, $200,000, $300,000, i… [+2200 chars]'},\n",
       "  {'source': {'id': 'business-insider', 'name': 'Business Insider'},\n",
       "   'author': 'insider@insider.com (Adam Morgan McCarthy)',\n",
       "   'title': 'Cryptocurrencies rebound, with bitcoin rising as much as 14%, as Russian and Ukrainian buyers pile in',\n",
       "   'description': 'As the ruble crumbles, Russian buyers have flocked to bitcoin, while millions of dollars in crypto donations are going to Ukraine.',\n",
       "   'url': 'https://markets.businessinsider.com/news/currencies/bitcoin-price-today-russia-ukraine-ethereum-terra-blockchain-war-2022-3',\n",
       "   'urlToImage': 'https://i.insider.com/6206c98a3b86990018b30245?width=1200&format=jpeg',\n",
       "   'publishedAt': '2022-03-01T11:34:16Z',\n",
       "   'content': 'Bitcoin rallied to a two-week high on Tuesday in spite of the turmoil on the broader markets, thanks to a surge in buying by Russians and Ukrainians who may be seeking refuge in cryptocurrencies as t… [+2894 chars]'},\n",
       "  {'source': {'id': 'reuters', 'name': 'Reuters'},\n",
       "   'author': None,\n",
       "   'title': 'Bukele to propose granting Salvadoran citizenship to foreign investors - Reuters',\n",
       "   'description': 'El Salvador President Nayib Bukele on Sunday said he will send Congress a proposal to grant citizenship to foreigners who invest in the Central American country as well as other initiatives to reduce government hurdles in order to attract investment projects.',\n",
       "   'url': 'https://www.reuters.com/world/americas/bukele-propose-granting-salvadoran-citizenship-foreign-investors-2022-02-20/',\n",
       "   'urlToImage': 'https://www.reuters.com/resizer/p0iO1xRGXHeWEAC-9FMjRPX7bLU=/1200x628/smart/filters:quality(80)/cloudfront-us-east-2.images.arcpublishing.com/reuters/7Q3RLDA54RO5LOTW7GQEA5GCE4.jpg',\n",
       "   'publishedAt': '2022-02-20T17:59:00Z',\n",
       "   'content': 'SAN SALVADOR, Feb 20 (Reuters) - El Salvador President Nayib Bukele on Sunday said he will send Congress a proposal to grant citizenship to foreigners who invest in the Central American country as we… [+1144 chars]'},\n",
       "  {'source': {'id': 'reuters', 'name': 'Reuters'},\n",
       "   'author': None,\n",
       "   'title': 'El Salvador says could launch bitcoin sovereign bond between March 15-20 - Reuters',\n",
       "   'description': \"El Salvador is looking for the right timing to launch its bitcoin-backed bond, which could happen between March 15 and 20, the Central American nation's finance minister Alejandro Zelaya on Friday told local TV.\",\n",
       "   'url': 'https://www.reuters.com/technology/el-salvador-says-could-launch-bitcoin-sovereign-bond-between-march-15-20-2022-03-11/',\n",
       "   'urlToImage': 'https://www.reuters.com/resizer/sBWUvemJW0ryqtlCm2qpRiwhcus=/1200x628/smart/filters:quality(80)/cloudfront-us-east-2.images.arcpublishing.com/reuters/XW2TXYEQFZNPVKYUBO65KACFFU.jpg',\n",
       "   'publishedAt': '2022-03-11T14:26:00Z',\n",
       "   'content': \"SAN SALVADOR, March 11 (Reuters) - El Salvador is looking for the right timing to launch its bitcoin-backed bond, which could happen between March 15 and 20, the Central American nation's finance min… [+533 chars]\"},\n",
       "  {'source': {'id': None, 'name': 'New York Times'},\n",
       "   'author': 'The New York Times',\n",
       "   'title': 'Canada Declares National Emergency to End Trucker Protests',\n",
       "   'description': 'The extraordinary move allows the police to seize trucks used in blockades. And the government will formally ban demonstrations in areas like border crossings, airports and Ottawa, the country’s capital.',\n",
       "   'url': 'https://www.nytimes.com/live/2022/02/15/world/canada-protests-news',\n",
       "   'urlToImage': 'https://static01.nyt.com/images/2022/02/15/world/15canada-protests-briefing-lede-01/15canada-protests-briefing-lede-01-facebookJumbo.jpg',\n",
       "   'publishedAt': '2022-02-15T10:22:17Z',\n",
       "   'content': 'New details about the source of millions of dollars supporting the Canadian trucker convoy suggest many of the larger donors are wealthy Canadians, though one of the biggest contributions was made in… [+5139 chars]'}]}"
      ]
     },
     "execution_count": 14,
     "metadata": {},
     "output_type": "execute_result"
    }
   ],
   "source": [
    "# Fetch the Bitcoin news articles\n",
    "btc_article = newsapi.get_everything(q='Bitcoin')\n"
   ]
  },
  {
   "cell_type": "code",
   "execution_count": 13,
   "metadata": {},
   "outputs": [],
   "source": [
    "# Fetch the Ethereum news articles\n",
    "eth_articles = newsapi.get_everything(q='Ethereum')"
   ]
  },
  {
   "cell_type": "code",
   "execution_count": 130,
   "metadata": {},
   "outputs": [],
   "source": [
    "\n",
    "# function to store titles , description and content of newsapi results\n",
    "def news_to_df_sperated(news, output):\n",
    "    titles =[] \n",
    "    descriptions = [] \n",
    "    contents = []\n",
    "  \n",
    "    for i in range(len(news['articles'])):\n",
    "        titles.append([news['articles'][i]['title']])\n",
    "        descriptions.append([ news['articles'][i]['description']])\n",
    "        contents.append([ news['articles'][i]['content']])\n",
    "    \n",
    "    if output == 'titles':\n",
    "        return titles\n",
    "    elif output == 'contents':\n",
    "        return contents\n",
    "    elif output == 'descriptions':\n",
    "        return descriptions\n",
    "    else: \n",
    "        return print('You must provide a an output')\n",
    "    \n",
    "    # Functioin to store results into a dataframe \n",
    "def news_to_df_full(news):\n",
    "    articles_lst = [] \n",
    "    for i in range(len(news['articles'])):\n",
    "        articles_lst.append(news['articles'][i])\n",
    "    return articles_lst"
   ]
  },
  {
   "cell_type": "code",
   "execution_count": 135,
   "metadata": {},
   "outputs": [],
   "source": [
    "# Create the Bitcoin sentiment scores DataFrame\n",
    "\n",
    "#storing the text data into a dataframe \n",
    "btc_articles_lst = news_to_df_full(btc_article)\n",
    "btc_df = pd.DataFrame(btc_articles_lst)\n"
   ]
  },
  {
   "cell_type": "code",
   "execution_count": 137,
   "metadata": {},
   "outputs": [
    {
     "data": {
      "text/plain": [
       "{'neg': 0.302, 'neu': 0.698, 'pos': 0.0, 'compound': -0.3818}"
      ]
     },
     "execution_count": 137,
     "metadata": {},
     "output_type": "execute_result"
    }
   ],
   "source": [
    "# Create the Ethereum sentiment scores DataFrame\n",
    "#storing the text data into a dataframe \n",
    "eth_articles_lst = news_to_df_full(eth_articles)\n",
    "eth_df = pd.DataFrame(eth_articles_lst)\n",
    "\n",
    "analyzer.polarity_scores(eth_df['title'][0])\n",
    "\n"
   ]
  },
  {
   "cell_type": "code",
   "execution_count": 8,
   "metadata": {},
   "outputs": [],
   "source": [
    "# Describe the Bitcoin Sentiment\n",
    "# YOUR CODE HERE!"
   ]
  },
  {
   "cell_type": "code",
   "execution_count": 9,
   "metadata": {},
   "outputs": [],
   "source": [
    "# Describe the Ethereum Sentiment\n",
    "# YOUR CODE HERE!"
   ]
  },
  {
   "cell_type": "markdown",
   "metadata": {},
   "source": [
    "### Questions:\n",
    "\n",
    "Q: Which coin had the highest mean positive score?\n",
    "\n",
    "A: \n",
    "\n",
    "Q: Which coin had the highest compound score?\n",
    "\n",
    "A: \n",
    "\n",
    "Q. Which coin had the highest positive score?\n",
    "\n",
    "A: "
   ]
  },
  {
   "cell_type": "markdown",
   "metadata": {},
   "source": [
    "---"
   ]
  },
  {
   "cell_type": "markdown",
   "metadata": {},
   "source": [
    "## 2. Natural Language Processing\n",
    "---\n",
    "###   Tokenizer\n",
    "\n",
    "In this section, you will use NLTK and Python to tokenize the text for each coin. Be sure to:\n",
    "1. Lowercase each word.\n",
    "2. Remove Punctuation.\n",
    "3. Remove Stopwords."
   ]
  },
  {
   "cell_type": "code",
   "execution_count": 10,
   "metadata": {},
   "outputs": [],
   "source": [
    "from nltk.tokenize import word_tokenize, sent_tokenize\n",
    "from nltk.corpus import stopwords\n",
    "from nltk.stem import WordNetLemmatizer, PorterStemmer\n",
    "from string import punctuation\n",
    "import re"
   ]
  },
  {
   "cell_type": "code",
   "execution_count": 11,
   "metadata": {},
   "outputs": [],
   "source": [
    "# Instantiate the lemmatizer\n",
    "# YOUR CODE HERE!\n",
    "\n",
    "# Create a list of stopwords\n",
    "# YOUR CODE HERE!\n",
    "\n",
    "# Expand the default stopwords list if necessary\n",
    "# YOUR CODE HERE!"
   ]
  },
  {
   "cell_type": "code",
   "execution_count": 12,
   "metadata": {},
   "outputs": [],
   "source": [
    "# Complete the tokenizer function\n",
    "def tokenizer(text):\n",
    "    \"\"\"Tokenizes text.\"\"\"\n",
    "    \n",
    "    # Remove the punctuation from text\n",
    "\n",
    "   \n",
    "    # Create a tokenized list of the words\n",
    "    \n",
    "    \n",
    "    # Lemmatize words into root words\n",
    "\n",
    "   \n",
    "    # Convert the words to lowercase\n",
    "    \n",
    "    \n",
    "    # Remove the stop words\n",
    "    \n",
    "    \n",
    "    return tokens"
   ]
  },
  {
   "cell_type": "code",
   "execution_count": 13,
   "metadata": {},
   "outputs": [],
   "source": [
    "# Create a new tokens column for Bitcoin\n",
    "# YOUR CODE HERE!"
   ]
  },
  {
   "cell_type": "code",
   "execution_count": 14,
   "metadata": {},
   "outputs": [],
   "source": [
    "# Create a new tokens column for Ethereum\n",
    "# YOUR CODE HERE!"
   ]
  },
  {
   "cell_type": "markdown",
   "metadata": {},
   "source": [
    "---"
   ]
  },
  {
   "cell_type": "markdown",
   "metadata": {},
   "source": [
    "### NGrams and Frequency Analysis\n",
    "\n",
    "In this section you will look at the ngrams and word frequency for each coin. \n",
    "\n",
    "1. Use NLTK to produce the n-grams for N = 2. \n",
    "2. List the top 10 words for each coin. "
   ]
  },
  {
   "cell_type": "code",
   "execution_count": 15,
   "metadata": {},
   "outputs": [],
   "source": [
    "from collections import Counter\n",
    "from nltk import ngrams"
   ]
  },
  {
   "cell_type": "code",
   "execution_count": 16,
   "metadata": {},
   "outputs": [],
   "source": [
    "# Generate the Bitcoin N-grams where N=2\n",
    "# YOUR CODE HERE!"
   ]
  },
  {
   "cell_type": "code",
   "execution_count": 17,
   "metadata": {},
   "outputs": [],
   "source": [
    "# Generate the Ethereum N-grams where N=2\n",
    "# YOUR CODE HERE!"
   ]
  },
  {
   "cell_type": "code",
   "execution_count": 18,
   "metadata": {},
   "outputs": [],
   "source": [
    "# Function token_count generates the top 10 words for a given coin\n",
    "def token_count(tokens, N=3):\n",
    "    \"\"\"Returns the top N tokens from the frequency count\"\"\"\n",
    "    return Counter(tokens).most_common(N)"
   ]
  },
  {
   "cell_type": "code",
   "execution_count": 19,
   "metadata": {},
   "outputs": [],
   "source": [
    "# Use token_count to get the top 10 words for Bitcoin\n",
    "# YOUR CODE HERE!"
   ]
  },
  {
   "cell_type": "code",
   "execution_count": 20,
   "metadata": {},
   "outputs": [],
   "source": [
    "# Use token_count to get the top 10 words for Ethereum\n",
    "# YOUR CODE HERE!"
   ]
  },
  {
   "cell_type": "markdown",
   "metadata": {},
   "source": [
    "---"
   ]
  },
  {
   "cell_type": "markdown",
   "metadata": {},
   "source": [
    "### Word Clouds\n",
    "\n",
    "In this section, you will generate word clouds for each coin to summarize the news for each coin"
   ]
  },
  {
   "cell_type": "code",
   "execution_count": 21,
   "metadata": {},
   "outputs": [],
   "source": [
    "from wordcloud import WordCloud\n",
    "import matplotlib.pyplot as plt\n",
    "plt.style.use('seaborn-whitegrid')\n",
    "import matplotlib as mpl\n",
    "mpl.rcParams['figure.figsize'] = [20.0, 10.0]"
   ]
  },
  {
   "cell_type": "code",
   "execution_count": 22,
   "metadata": {},
   "outputs": [],
   "source": [
    "# Generate the Bitcoin word cloud\n",
    "# YOUR CODE HERE!"
   ]
  },
  {
   "cell_type": "code",
   "execution_count": 23,
   "metadata": {},
   "outputs": [],
   "source": [
    "# Generate the Ethereum word cloud\n",
    "# YOUR CODE HERE!"
   ]
  },
  {
   "cell_type": "markdown",
   "metadata": {},
   "source": [
    "---\n",
    "## 3. Named Entity Recognition\n",
    "\n",
    "In this section, you will build a named entity recognition model for both Bitcoin and Ethereum, then visualize the tags using SpaCy."
   ]
  },
  {
   "cell_type": "code",
   "execution_count": 24,
   "metadata": {},
   "outputs": [],
   "source": [
    "import spacy\n",
    "from spacy import displacy"
   ]
  },
  {
   "cell_type": "code",
   "execution_count": 25,
   "metadata": {},
   "outputs": [],
   "source": [
    "# Download the language model for SpaCy\n",
    "# !python -m spacy download en_core_web_sm"
   ]
  },
  {
   "cell_type": "code",
   "execution_count": 26,
   "metadata": {},
   "outputs": [],
   "source": [
    "# Load the spaCy model\n",
    "nlp = spacy.load('en_core_web_sm')"
   ]
  },
  {
   "cell_type": "markdown",
   "metadata": {},
   "source": [
    "---\n",
    "### Bitcoin NER"
   ]
  },
  {
   "cell_type": "code",
   "execution_count": 27,
   "metadata": {},
   "outputs": [],
   "source": [
    "# Concatenate all of the Bitcoin text together\n",
    "# YOUR CODE HERE!"
   ]
  },
  {
   "cell_type": "code",
   "execution_count": 28,
   "metadata": {},
   "outputs": [],
   "source": [
    "# Run the NER processor on all of the text\n",
    "# YOUR CODE HERE!\n",
    "\n",
    "# Add a title to the document\n",
    "# YOUR CODE HERE!"
   ]
  },
  {
   "cell_type": "code",
   "execution_count": 29,
   "metadata": {},
   "outputs": [],
   "source": [
    "# Render the visualization\n",
    "# YOUR CODE HERE!"
   ]
  },
  {
   "cell_type": "code",
   "execution_count": 30,
   "metadata": {},
   "outputs": [],
   "source": [
    "# List all Entities\n",
    "# YOUR CODE HERE!"
   ]
  },
  {
   "cell_type": "markdown",
   "metadata": {},
   "source": [
    "---"
   ]
  },
  {
   "cell_type": "markdown",
   "metadata": {},
   "source": [
    "### Ethereum NER"
   ]
  },
  {
   "cell_type": "code",
   "execution_count": 31,
   "metadata": {},
   "outputs": [],
   "source": [
    "# Concatenate all of the Ethereum text together\n",
    "# YOUR CODE HERE!"
   ]
  },
  {
   "cell_type": "code",
   "execution_count": 32,
   "metadata": {},
   "outputs": [],
   "source": [
    "# Run the NER processor on all of the text\n",
    "# YOUR CODE HERE!\n",
    "\n",
    "# Add a title to the document\n",
    "# YOUR CODE HERE!"
   ]
  },
  {
   "cell_type": "code",
   "execution_count": 33,
   "metadata": {},
   "outputs": [],
   "source": [
    "# Render the visualization\n",
    "# YOUR CODE HERE!"
   ]
  },
  {
   "cell_type": "code",
   "execution_count": 34,
   "metadata": {},
   "outputs": [],
   "source": [
    "# List all Entities\n",
    "# YOUR CODE HERE!"
   ]
  },
  {
   "cell_type": "markdown",
   "metadata": {},
   "source": [
    "---"
   ]
  }
 ],
 "metadata": {
  "file_extension": ".py",
  "kernelspec": {
   "display_name": "Python 3",
   "language": "python",
   "name": "python3"
  },
  "language_info": {
   "codemirror_mode": {
    "name": "ipython",
    "version": 3
   },
   "file_extension": ".py",
   "mimetype": "text/x-python",
   "name": "python",
   "nbconvert_exporter": "python",
   "pygments_lexer": "ipython3",
   "version": "3.7.7"
  },
  "mimetype": "text/x-python",
  "name": "python",
  "npconvert_exporter": "python",
  "pygments_lexer": "ipython3",
  "version": 3
 },
 "nbformat": 4,
 "nbformat_minor": 4
}
